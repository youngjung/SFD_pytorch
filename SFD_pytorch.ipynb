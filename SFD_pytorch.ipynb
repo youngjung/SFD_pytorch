{
 "cells": [
  {
   "cell_type": "code",
   "execution_count": 2,
   "metadata": {},
   "outputs": [],
   "source": [
    "from __future__ import print_function\n",
    "\n",
    "import os,sys,cv2,random,datetime,time,math\n",
    "from collections import namedtuple\n",
    "from tqdm import tqdm\n",
    "import argparse\n",
    "from operator import attrgetter\n",
    "\n",
    "import numpy as np\n",
    "from matplotlib import pyplot as plt\n",
    "from PIL import Image\n",
    "import torch\n",
    "from torchvision import transforms as T\n",
    "from torchvision.utils import save_image, make_grid\n",
    "import torch.nn.functional as F\n",
    "torch.backends.cudnn.bencmark = True\n",
    "\n",
    "import net_s3fd\n",
    "from bbox import *"
   ]
  },
  {
   "cell_type": "code",
   "execution_count": 3,
   "metadata": {},
   "outputs": [],
   "source": [
    "Face = namedtuple('Face', ['fname', 'bbox', 'score'])\n",
    "tensor2pil = T.ToPILImage()"
   ]
  },
  {
   "cell_type": "code",
   "execution_count": 55,
   "metadata": {},
   "outputs": [
    {
     "name": "stderr",
     "output_type": "stream",
     "text": [
      "\r",
      "  0%|          | 0/3820 [00:00<?, ?it/s]"
     ]
    },
    {
     "name": "stdout",
     "output_type": "stream",
     "text": [
      "found 20241 images from /home/data/hairstyle/images\n"
     ]
    },
    {
     "name": "stderr",
     "output_type": "stream",
     "text": [
      "/opt/conda/lib/python3.6/site-packages/ipykernel_launcher.py:13: UserWarning: Implicit dimension choice for softmax has been deprecated. Change the call to include dim=X as an argument.\n",
      "  del sys.path[0]\n",
      "100%|█████████▉| 3816/3820 [00:00<00:00, 17341.22it/s]\n"
     ]
    },
    {
     "ename": "error",
     "evalue": "OpenCV(4.1.2) /io/opencv/modules/imgproc/src/resize.cpp:3720: error: (-215:Assertion failed) !ssize.empty() in function 'resize'\n",
     "output_type": "error",
     "traceback": [
      "\u001b[0;31m---------------------------------------------------------------------------\u001b[0m",
      "\u001b[0;31merror\u001b[0m                                     Traceback (most recent call last)",
      "\u001b[0;32m<ipython-input-55-e394b3874cfe>\u001b[0m in \u001b[0;36m<module>\u001b[0;34m\u001b[0m\n\u001b[1;32m      1\u001b[0m \u001b[0;34m\u001b[0m\u001b[0m\n\u001b[0;32m----> 2\u001b[0;31m \u001b[0mdetect_single_faces\u001b[0m\u001b[0;34m(\u001b[0m\u001b[0margs\u001b[0m\u001b[0;34m)\u001b[0m\u001b[0;34m\u001b[0m\u001b[0;34m\u001b[0m\u001b[0m\n\u001b[0m",
      "\u001b[0;32m<ipython-input-53-4a5d41a9b7de>\u001b[0m in \u001b[0;36mdetect_single_faces\u001b[0;34m(args)\u001b[0m\n\u001b[1;32m      8\u001b[0m     \u001b[0mprint\u001b[0m\u001b[0;34m(\u001b[0m\u001b[0;34m'found {} images from {}'\u001b[0m\u001b[0;34m.\u001b[0m\u001b[0mformat\u001b[0m\u001b[0;34m(\u001b[0m\u001b[0mlen\u001b[0m\u001b[0;34m(\u001b[0m\u001b[0mfnames\u001b[0m\u001b[0;34m)\u001b[0m\u001b[0;34m,\u001b[0m \u001b[0mdname\u001b[0m\u001b[0;34m)\u001b[0m\u001b[0;34m)\u001b[0m\u001b[0;34m\u001b[0m\u001b[0;34m\u001b[0m\u001b[0m\n\u001b[1;32m      9\u001b[0m \u001b[0;34m\u001b[0m\u001b[0m\n\u001b[0;32m---> 10\u001b[0;31m     \u001b[0mresults\u001b[0m\u001b[0;34m,\u001b[0m \u001b[0mfaces\u001b[0m \u001b[0;34m=\u001b[0m \u001b[0mdetect_faces\u001b[0m\u001b[0;34m(\u001b[0m\u001b[0mfnames\u001b[0m\u001b[0;34m,\u001b[0m \u001b[0mmodel\u001b[0m\u001b[0;34m,\u001b[0m \u001b[0margs\u001b[0m\u001b[0;34m.\u001b[0m\u001b[0mpre_thresh\u001b[0m\u001b[0;34m)\u001b[0m\u001b[0;34m\u001b[0m\u001b[0;34m\u001b[0m\u001b[0m\n\u001b[0m\u001b[1;32m     11\u001b[0m \u001b[0;34m\u001b[0m\u001b[0m\n\u001b[1;32m     12\u001b[0m     \u001b[0mresults_noface\u001b[0m\u001b[0;34m,\u001b[0m \u001b[0mresults_oneface\u001b[0m\u001b[0;34m,\u001b[0m \u001b[0mresults_multiple\u001b[0m \u001b[0;34m=\u001b[0m \u001b[0msplit_results_by_num_faces\u001b[0m\u001b[0;34m(\u001b[0m\u001b[0mresults\u001b[0m\u001b[0;34m)\u001b[0m\u001b[0;34m\u001b[0m\u001b[0;34m\u001b[0m\u001b[0m\n",
      "\u001b[0;32m<ipython-input-54-316c1a23bba2>\u001b[0m in \u001b[0;36mdetect_faces\u001b[0;34m(fnames, model, pre_thresh)\u001b[0m\n\u001b[1;32m      6\u001b[0m         \u001b[0mimg\u001b[0m \u001b[0;34m=\u001b[0m \u001b[0mcv2\u001b[0m\u001b[0;34m.\u001b[0m\u001b[0mimread\u001b[0m\u001b[0;34m(\u001b[0m\u001b[0mfname\u001b[0m\u001b[0;34m)\u001b[0m\u001b[0;34m\u001b[0m\u001b[0;34m\u001b[0m\u001b[0m\n\u001b[1;32m      7\u001b[0m \u001b[0;34m\u001b[0m\u001b[0m\n\u001b[0;32m----> 8\u001b[0;31m         \u001b[0mbboxlist\u001b[0m \u001b[0;34m=\u001b[0m \u001b[0mdetect\u001b[0m\u001b[0;34m(\u001b[0m\u001b[0mmodel\u001b[0m\u001b[0;34m,\u001b[0m \u001b[0mimg\u001b[0m\u001b[0;34m)\u001b[0m\u001b[0;34m\u001b[0m\u001b[0;34m\u001b[0m\u001b[0m\n\u001b[0m\u001b[1;32m      9\u001b[0m \u001b[0;34m\u001b[0m\u001b[0m\n\u001b[1;32m     10\u001b[0m         \u001b[0mkeep\u001b[0m \u001b[0;34m=\u001b[0m \u001b[0mnms\u001b[0m\u001b[0;34m(\u001b[0m\u001b[0mbboxlist\u001b[0m\u001b[0;34m,\u001b[0m \u001b[0;36m0.3\u001b[0m\u001b[0;34m)\u001b[0m\u001b[0;34m\u001b[0m\u001b[0;34m\u001b[0m\u001b[0m\n",
      "\u001b[0;32m/opt/conda/lib/python3.6/site-packages/torch/autograd/grad_mode.py\u001b[0m in \u001b[0;36mdecorate_no_grad\u001b[0;34m(*args, **kwargs)\u001b[0m\n\u001b[1;32m     41\u001b[0m         \u001b[0;32mdef\u001b[0m \u001b[0mdecorate_no_grad\u001b[0m\u001b[0;34m(\u001b[0m\u001b[0;34m*\u001b[0m\u001b[0margs\u001b[0m\u001b[0;34m,\u001b[0m \u001b[0;34m**\u001b[0m\u001b[0mkwargs\u001b[0m\u001b[0;34m)\u001b[0m\u001b[0;34m:\u001b[0m\u001b[0;34m\u001b[0m\u001b[0;34m\u001b[0m\u001b[0m\n\u001b[1;32m     42\u001b[0m             \u001b[0;32mwith\u001b[0m \u001b[0mself\u001b[0m\u001b[0;34m:\u001b[0m\u001b[0;34m\u001b[0m\u001b[0;34m\u001b[0m\u001b[0m\n\u001b[0;32m---> 43\u001b[0;31m                 \u001b[0;32mreturn\u001b[0m \u001b[0mfunc\u001b[0m\u001b[0;34m(\u001b[0m\u001b[0;34m*\u001b[0m\u001b[0margs\u001b[0m\u001b[0;34m,\u001b[0m \u001b[0;34m**\u001b[0m\u001b[0mkwargs\u001b[0m\u001b[0;34m)\u001b[0m\u001b[0;34m\u001b[0m\u001b[0;34m\u001b[0m\u001b[0m\n\u001b[0m\u001b[1;32m     44\u001b[0m         \u001b[0;32mreturn\u001b[0m \u001b[0mdecorate_no_grad\u001b[0m\u001b[0;34m\u001b[0m\u001b[0;34m\u001b[0m\u001b[0m\n\u001b[1;32m     45\u001b[0m \u001b[0;34m\u001b[0m\u001b[0m\n",
      "\u001b[0;32m<ipython-input-3-47bf4c363f39>\u001b[0m in \u001b[0;36mdetect\u001b[0;34m(net, img, resize)\u001b[0m\n\u001b[1;32m      1\u001b[0m \u001b[0;34m@\u001b[0m\u001b[0mtorch\u001b[0m\u001b[0;34m.\u001b[0m\u001b[0mno_grad\u001b[0m\u001b[0;34m(\u001b[0m\u001b[0;34m)\u001b[0m\u001b[0;34m\u001b[0m\u001b[0;34m\u001b[0m\u001b[0m\n\u001b[1;32m      2\u001b[0m \u001b[0;32mdef\u001b[0m \u001b[0mdetect\u001b[0m\u001b[0;34m(\u001b[0m\u001b[0mnet\u001b[0m\u001b[0;34m,\u001b[0m\u001b[0mimg\u001b[0m\u001b[0;34m,\u001b[0m \u001b[0mresize\u001b[0m\u001b[0;34m=\u001b[0m\u001b[0;36m512\u001b[0m\u001b[0;34m)\u001b[0m\u001b[0;34m:\u001b[0m\u001b[0;34m\u001b[0m\u001b[0;34m\u001b[0m\u001b[0m\n\u001b[0;32m----> 3\u001b[0;31m     \u001b[0mimg\u001b[0m \u001b[0;34m=\u001b[0m \u001b[0mcv2\u001b[0m\u001b[0;34m.\u001b[0m\u001b[0mresize\u001b[0m\u001b[0;34m(\u001b[0m\u001b[0mimg\u001b[0m\u001b[0;34m,\u001b[0m \u001b[0;34m(\u001b[0m\u001b[0mresize\u001b[0m\u001b[0;34m,\u001b[0m \u001b[0mresize\u001b[0m\u001b[0;34m)\u001b[0m\u001b[0;34m)\u001b[0m\u001b[0;34m\u001b[0m\u001b[0;34m\u001b[0m\u001b[0m\n\u001b[0m\u001b[1;32m      4\u001b[0m     \u001b[0mimg\u001b[0m \u001b[0;34m=\u001b[0m \u001b[0mimg\u001b[0m \u001b[0;34m-\u001b[0m \u001b[0mnp\u001b[0m\u001b[0;34m.\u001b[0m\u001b[0marray\u001b[0m\u001b[0;34m(\u001b[0m\u001b[0;34m[\u001b[0m\u001b[0;36m104\u001b[0m\u001b[0;34m,\u001b[0m\u001b[0;36m117\u001b[0m\u001b[0;34m,\u001b[0m\u001b[0;36m123\u001b[0m\u001b[0;34m]\u001b[0m\u001b[0;34m)\u001b[0m\u001b[0;34m\u001b[0m\u001b[0;34m\u001b[0m\u001b[0m\n\u001b[1;32m      5\u001b[0m     \u001b[0mimg\u001b[0m \u001b[0;34m=\u001b[0m \u001b[0mimg\u001b[0m\u001b[0;34m.\u001b[0m\u001b[0mtranspose\u001b[0m\u001b[0;34m(\u001b[0m\u001b[0;36m2\u001b[0m\u001b[0;34m,\u001b[0m \u001b[0;36m0\u001b[0m\u001b[0;34m,\u001b[0m \u001b[0;36m1\u001b[0m\u001b[0;34m)\u001b[0m\u001b[0;34m\u001b[0m\u001b[0;34m\u001b[0m\u001b[0m\n",
      "\u001b[0;31merror\u001b[0m: OpenCV(4.1.2) /io/opencv/modules/imgproc/src/resize.cpp:3720: error: (-215:Assertion failed) !ssize.empty() in function 'resize'\n"
     ]
    }
   ],
   "source": [
    "\n",
    "detect_single_faces(args)"
   ]
  },
  {
   "cell_type": "code",
   "execution_count": 53,
   "metadata": {},
   "outputs": [],
   "source": [
    "def detect_single_faces(args):\n",
    "    model = load_model(args)\n",
    "    \n",
    "    dname = args.dname\n",
    "    dname_result = args.dname_result\n",
    "    fnames = os.listdir(dname)\n",
    "    fnames = [os.path.join(dname, fname) for fname in fnames]\n",
    "    print('found {} images from {}'.format(len(fnames), dname))\n",
    "    \n",
    "    results, faces = detect_faces(fnames, model, args.pre_thresh)\n",
    "    \n",
    "    results_noface, results_oneface, results_multiple = split_results_by_num_faces(results)\n",
    "    \n",
    "    scores = [face.bbox[4] for face in faces]\n",
    "    scores_oneface = [result.bbox[0, 4] for result in results_oneface]\n",
    "    num_faces = [result.bbox.shape[0] for result in results]\n",
    "    \n",
    "    results_oneface_belowthresh = [result for result in results_oneface if result.bbox[0, 4] < args.thresh]\n",
    "    results_oneface_valid = [result for result in results_oneface if result.bbox[0, 4] >= args.thresh]\n",
    "    \n",
    "    save_histogram(scores, os.path.join(dname_result, 'scores.png'))\n",
    "    save_histogram(scores_oneface, os.path.join(dname_result, 'scores_oneface.png'))\n",
    "    save_histogram_discrete(num_faces, os.path.join(dname_result, 'num_faces.jpg'))\n",
    "    \n",
    "    save_results(results_noface, os.path.join(dname_result, 'results_noface.jpg'))\n",
    "    save_results(results_oneface_belowthresh, os.path.join(dname_result, 'results_oneface_belowthresh.jpg'))\n",
    "    save_results(results_oneface_valid, os.path.join(dname_result, 'results_oneface_valid.jpg'))\n",
    "    save_results(results_multiple, os.path.join(dname_result, 'results_multiple.jpg'))"
   ]
  },
  {
   "cell_type": "code",
   "execution_count": 41,
   "metadata": {},
   "outputs": [],
   "source": [
    "def detect_faces(fnames, model, pre_thresh):\n",
    "    results, faces = [], []\n",
    "    for i, fname in enumerate(tqdm(fnames[:3820])):\n",
    "        img = cv2.imread(fname)\n",
    "\n",
    "        bboxlist = detect(model, img)\n",
    "\n",
    "        keep = nms(bboxlist, 0.3)\n",
    "        bboxlist = bboxlist[keep, :]\n",
    "        keep = bboxlist[:, 4] > pre_thresh\n",
    "        bboxlist = bboxlist[keep, :]\n",
    "\n",
    "        results.append(Face(fname, bboxlist, None))\n",
    "        for b in bboxlist:\n",
    "            # x1, y1, x2, y2, s = b\n",
    "            face = Face(fname, b, b[4])\n",
    "            faces.append(face)\n",
    "    return results, faces"
   ]
  },
  {
   "cell_type": "code",
   "execution_count": 29,
   "metadata": {},
   "outputs": [],
   "source": [
    "@torch.no_grad()\n",
    "def detect(net,img, resize=512):\n",
    "    img = cv2.resize(img, (resize, resize))\n",
    "    img = img - np.array([104,117,123])\n",
    "    img = img.transpose(2, 0, 1)\n",
    "    img = img.reshape((1,)+img.shape)\n",
    "\n",
    "    img = torch.from_numpy(img).float().cuda()\n",
    "    BB,CC,HH,WW = img.size()\n",
    "    olist = net(img)\n",
    "\n",
    "    bboxlist = []\n",
    "    for i in range(len(olist)//2): olist[i*2] = F.softmax(olist[i*2])\n",
    "    olist = [oelem.data.cpu() for oelem in olist]\n",
    "    for i in range(len(olist)//2):\n",
    "        ocls,oreg = olist[i*2],olist[i*2+1]\n",
    "        FB,FC,FH,FW = ocls.size() # feature map size\n",
    "        stride = 2**(i+2)    # 4,8,16,32,64,128\n",
    "        anchor = stride*4\n",
    "        poss = zip(*np.where(ocls[:,1,:,:]>0.05))\n",
    "        for Iindex, hindex, windex in poss:\n",
    "            axc,ayc = stride/2+windex*stride,stride/2+hindex*stride\n",
    "            score = ocls[0,1,hindex,windex]\n",
    "            loc = oreg[0,:,hindex,windex].contiguous().view(1,4)\n",
    "            if score<0.05: continue\n",
    "            priors = torch.Tensor([[axc/1.0,ayc/1.0,stride*4/1.0,stride*4/1.0]])\n",
    "            variances = [0.1,0.2]\n",
    "            box = decode(loc,priors,variances)\n",
    "            x1,y1,x2,y2 = box[0]*1.0\n",
    "            # cv2.rectangle(imgshow,(int(x1),int(y1)),(int(x2),int(y2)),(0,0,255),1)\n",
    "            bboxlist.append([x1,y1,x2,y2,score])\n",
    "    bboxlist = np.array(bboxlist)\n",
    "    if 0==len(bboxlist): bboxlist=np.zeros((1, 5))\n",
    "    return bboxlist"
   ]
  },
  {
   "cell_type": "code",
   "execution_count": 30,
   "metadata": {},
   "outputs": [],
   "source": [
    "def save_histogram(data, fname, num_bins=10):\n",
    "    fig = plt.figure()\n",
    "    n, bins, patches = plt.hist(data, num_bins, facecolor='gray', alpha=0.5)\n",
    "    fig.savefig(fname)\n"
   ]
  },
  {
   "cell_type": "code",
   "execution_count": 31,
   "metadata": {},
   "outputs": [],
   "source": [
    "def save_histogram_discrete(data, fname):\n",
    "    fig = plt.figure()\n",
    "    data = np.array(data)\n",
    "    d = np.diff(np.unique(data)).min()\n",
    "    left_of_first_bin = data.min() - float(d)/2\n",
    "    right_of_last_bin = data.max() + float(d)/2\n",
    "    plt.hist(data, np.arange(left_of_first_bin, right_of_last_bin + d, d))\n",
    "    fig.savefig(fname)"
   ]
  },
  {
   "cell_type": "code",
   "execution_count": 32,
   "metadata": {},
   "outputs": [],
   "source": [
    "def split_results_by_num_faces(results):\n",
    "    results_noface, results_oneface, results_multiple = [], [], []\n",
    "    for result in results:\n",
    "        num_face = result.bbox.shape[0]\n",
    "        if num_face == 0:\n",
    "            results_noface.append(result)\n",
    "        elif num_face == 1:\n",
    "            results_oneface.append(result)\n",
    "        else:\n",
    "            results_multiple.append(result)\n",
    "    return results_noface, results_oneface, results_multiple"
   ]
  },
  {
   "cell_type": "code",
   "execution_count": 33,
   "metadata": {},
   "outputs": [],
   "source": [
    "def save_results(results, fname):\n",
    "    images = []\n",
    "    for result in results:\n",
    "        image = open_image(result.fname)\n",
    "        images.append(image)\n",
    "    multiple_images = torch.stack(images)\n",
    "    save_image(multiple_images, fname)"
   ]
  },
  {
   "cell_type": "code",
   "execution_count": 34,
   "metadata": {},
   "outputs": [],
   "source": [
    "def load_model(args):\n",
    "    net = getattr(net_s3fd, args.net)()\n",
    "    if args.model!='' :net.load_state_dict(torch.load(args.model))\n",
    "    else: print('Please set --model parameter!')\n",
    "    net.cuda()\n",
    "    net.eval()\n",
    "    return net"
   ]
  },
  {
   "cell_type": "code",
   "execution_count": 35,
   "metadata": {},
   "outputs": [],
   "source": [
    "def open_image(fname, resize=128):\n",
    "    image = Image.open(fname).convert('RGB')\n",
    "    totensor = T.Compose([T.Resize((resize, resize)), T.ToTensor()])\n",
    "    return totensor(image)"
   ]
  },
  {
   "cell_type": "code",
   "execution_count": 36,
   "metadata": {},
   "outputs": [],
   "source": [
    "parser = argparse.ArgumentParser(description='PyTorch face detect')\n",
    "parser.add_argument('--dname', type=str, default='/home/data/hairstyle/images')\n",
    "parser.add_argument('--dname_result', type=str, default='results')\n",
    "parser.add_argument('--pre_thresh', type=float, default=0.5)\n",
    "parser.add_argument('--thresh', type=float, default=0.85)\n",
    "parser.add_argument('--net','-n', default='s3fd', type=str)\n",
    "parser.add_argument('--model', default='s3fd_convert.pth', type=str)\n",
    "parser.add_argument('-f', default='s3fd_convert.pth', type=str)\n",
    "\n",
    "args = parser.parse_args()\n",
    "os.makedirs(args.dname_result, exist_ok=True)"
   ]
  },
  {
   "cell_type": "code",
   "execution_count": 37,
   "metadata": {},
   "outputs": [],
   "source": [
    "model = load_model(args)"
   ]
  },
  {
   "cell_type": "code",
   "execution_count": 39,
   "metadata": {},
   "outputs": [
    {
     "name": "stdout",
     "output_type": "stream",
     "text": [
      "found 50 images from /home/data/hairstyle/images\n",
      "found 50 non-gif images from /home/data/hairstyle/images\n"
     ]
    }
   ],
   "source": [
    "dname = args.dname\n",
    "dname_result = args.dname_result\n",
    "fnames = os.listdir(dname)[-50:]\n",
    "fnames = [os.path.join(dname, fname) for fname in fnames]\n",
    "print('found {} images from {}'.format(len(fnames), dname))\n",
    "fnames = [os.path.join(dname, fname) for fname in fnames if 'gif' not in os.path.splitext(fname)[1]]\n",
    "print('found {} non-gif images from {}'.format(len(fnames), dname))\n"
   ]
  },
  {
   "cell_type": "code",
   "execution_count": 42,
   "metadata": {},
   "outputs": [
    {
     "name": "stderr",
     "output_type": "stream",
     "text": [
      "  0%|          | 0/50 [00:00<?, ?it/s]/opt/conda/lib/python3.6/site-packages/ipykernel_launcher.py:13: UserWarning: Implicit dimension choice for softmax has been deprecated. Change the call to include dim=X as an argument.\n",
      "  del sys.path[0]\n",
      "100%|██████████| 50/50 [00:17<00:00,  3.37it/s]\n"
     ]
    },
    {
     "data": {
      "image/png": "[encoded data removed]",
      "text/plain": [
       "<Figure size 432x288 with 1 Axes>"
      ]
     },
     "metadata": {
      "needs_background": "light"
     },
     "output_type": "display_data"
    },
    {
     "data": {
      "image/png": "[encoded data removed]",
      "text/plain": [
       "<Figure size 432x288 with 1 Axes>"
      ]
     },
     "metadata": {
      "needs_background": "light"
     },
     "output_type": "display_data"
    },
    {
     "data": {
      "image/png": "[encoded data removed]",
      "text/plain": [
       "<Figure size 432x288 with 1 Axes>"
      ]
     },
     "metadata": {
      "needs_background": "light"
     },
     "output_type": "display_data"
    }
   ],
   "source": [
    "\n",
    "\n",
    "results, faces = detect_faces(fnames, model, args.pre_thresh)\n",
    "\n",
    "results_noface, results_oneface, results_multiple = split_results_by_num_faces(results)\n",
    "\n",
    "scores = [face.bbox[4] for face in faces]\n",
    "scores_oneface = [result.bbox[0, 4] for result in results_oneface]\n",
    "num_faces = [result.bbox.shape[0] for result in results]\n",
    "\n",
    "results_oneface_belowthresh = [result for result in results_oneface if result.bbox[0, 4] < args.thresh]\n",
    "results_oneface_valid = [result for result in results_oneface if result.bbox[0, 4] >= args.thresh]\n",
    "\n",
    "save_histogram(scores, os.path.join(dname_result, 'scores.png'))\n",
    "save_histogram(scores_oneface, os.path.join(dname_result, 'scores_oneface.png'))\n",
    "save_histogram_discrete(num_faces, os.path.join(dname_result, 'num_faces.jpg'))\n"
   ]
  },
  {
   "cell_type": "code",
   "execution_count": 47,
   "metadata": {},
   "outputs": [],
   "source": [
    "fname = 'asdf.jpg'\n",
    "results = results_noface\n",
    "images = []\n",
    "for result in results:\n",
    "    image = open_image(result.fname)\n",
    "    images.append(image)\n",
    "multiple_images = torch.stack(images)\n",
    "save_image(multiple_images, fname)"
   ]
  },
  {
   "cell_type": "code",
   "execution_count": 56,
   "metadata": {},
   "outputs": [],
   "source": [
    "import pickle\n",
    "with open('results_oneface_valid.pkl', 'wb') as f:\n",
    "    pickle.dump(results_oneface_valid, f)"
   ]
  },
  {
   "cell_type": "code",
   "execution_count": 57,
   "metadata": {},
   "outputs": [],
   "source": [
    "with open('results_oneface_valid.pkl', 'rb') as f:\n",
    "    asdf = pickle.load(f)"
   ]
  },
  {
   "cell_type": "code",
   "execution_count": 69,
   "metadata": {},
   "outputs": [
    {
     "data": {
      "text/plain": [
       "[Face(fname='/home/data/hairstyle/images/YXXZ6cq6FztK7IceT06hc-yM.JPG.jpg', bbox=array([[216.42229   , 174.65114   , 306.08063   , 326.26703   ,\n",
       "           0.99995077]], dtype=float32), score=None),\n",
       " Face(fname='/home/data/hairstyle/images/baYBt_vUjNS_s5WpHuztMArv.JPG.jpg', bbox=array([[227.09154   , 134.6489    , 305.25977   , 289.5896    ,\n",
       "           0.99993074]], dtype=float32), score=None),\n",
       " Face(fname='/home/data/hairstyle/images/t9q1Y2YmeKL3z37GGq-50pIY.jpg', bbox=array([[164.3434  ,  51.863335, 371.66016 , 277.17914 ,   1.      ]],\n",
       "       dtype=float32), score=None),\n",
       " Face(fname='/home/data/hairstyle/images/olqgnWybx8b62TeyuDyxeS_D.JPG.jpg', bbox=array([[208.17273  , 111.54     , 297.64987  , 255.34229  ,   0.9999988]],\n",
       "       dtype=float32), score=None),\n",
       " Face(fname='/home/data/hairstyle/images/y3gMq_TV2zOXtXusGVpgAFyP.jpg', bbox=array([[207.31705   ,  47.476784  , 391.25232   , 273.1572    ,\n",
       "           0.99999917]], dtype=float32), score=None)]"
      ]
     },
     "execution_count": 69,
     "metadata": {},
     "output_type": "execute_result"
    }
   ],
   "source": [
    "results_oneface_valid[-5:]"
   ]
  },
  {
   "cell_type": "code",
   "execution_count": null,
   "metadata": {},
   "outputs": [],
   "source": [
    "save_results(results_noface, os.path.join(dname_result, 'results_noface.jpg'))\n",
    "save_results(results_oneface_belowthresh, os.path.join(dname_result, 'results_oneface_belowthresh.jpg'))\n",
    "save_results(results_oneface_valid, os.path.join(dname_result, 'results_oneface_valid.jpg'))\n",
    "save_results(results_multiple, os.path.join(dname_result, 'results_multiple.jpg'))"
   ]
  },
  {
   "cell_type": "code",
   "execution_count": 70,
   "metadata": {},
   "outputs": [],
   "source": [
    "import pickle"
   ]
  },
  {
   "cell_type": "code",
   "execution_count": 71,
   "metadata": {},
   "outputs": [],
   "source": [
    "fname_pkl = 'results/results.pkl'\n",
    "with open(fname_pkl, 'rb') as f:\n",
    "    data = pickle.load(f)"
   ]
  },
  {
   "cell_type": "code",
   "execution_count": 84,
   "metadata": {},
   "outputs": [
    {
     "data": {
      "text/plain": [
       "'d4z8FKMpnTd_FAkGUDScLadO.jpeg.jpg'"
      ]
     },
     "execution_count": 84,
     "metadata": {},
     "output_type": "execute_result"
    }
   ],
   "source": [
    "data[25]['fname']"
   ]
  },
  {
   "cell_type": "code",
   "execution_count": null,
   "metadata": {},
   "outputs": [],
   "source": [
    "sum([[1], [2]])"
   ]
  },
  {
   "cell_type": "code",
   "execution_count": null,
   "metadata": {},
   "outputs": [],
   "source": []
  }
 ],
 "metadata": {
  "kernelspec": {
   "display_name": "Python 3",
   "language": "python",
   "name": "python3"
  },
  "language_info": {
   "codemirror_mode": {
    "name": "ipython",
    "version": 3
   },
   "file_extension": ".py",
   "mimetype": "text/x-python",
   "name": "python",
   "nbconvert_exporter": "python",
   "pygments_lexer": "ipython3",
   "version": "3.6.7"
  }
 },
 "nbformat": 4,
 "nbformat_minor": 2
}
